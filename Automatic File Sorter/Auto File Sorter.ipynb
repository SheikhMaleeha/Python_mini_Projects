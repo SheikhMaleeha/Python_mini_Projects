{
 "cells": [
  {
   "cell_type": "code",
   "execution_count": 1,
   "id": "4e9df9fe",
   "metadata": {},
   "outputs": [],
   "source": [
    "import os, shutil"
   ]
  },
  {
   "cell_type": "code",
   "execution_count": 3,
   "id": "220effd6",
   "metadata": {},
   "outputs": [],
   "source": [
    "#file path= C:\\Users\\Public\\File Sorter\n",
    "path = r\"C:/Users/Public/File Sorter/\" #we will change the \"\\\" to \"/\" cause back-slash being mis-interpreted as something else, the last \"/\" to show inside the folder"
   ]
  },
  {
   "cell_type": "code",
   "execution_count": 5,
   "id": "c21d0c03",
   "metadata": {},
   "outputs": [
    {
     "data": {
      "text/plain": [
       "['-Real-Time-ECG-Analysis-for-Health-Monitoring-Using-XResNet1d-ML-Model-main.zip',\n",
       " '28904876.bib',\n",
       " 'anno.xlsx',\n",
       " 'Calc Experiment.ipynb',\n",
       " 'covid recurrence.png',\n",
       " 'ECG biomed Project.pdf',\n",
       " 'Find Human Values.ipynb',\n",
       " 'IMG_6086.JPG',\n",
       " 'Maleeha_Sheikh_Resume_.pdf',\n",
       " 'Medications COVID.png',\n",
       " 'Medications taken.png',\n",
       " 'mlb.pkl',\n",
       " 'Pivot Chart report.xlsx',\n",
       " 'Pool Detection_Term Project.pdf',\n",
       " 'Project Plan_Maleeha Sheikh.pptx.pdf',\n",
       " 'Sheikh-Maleeha.JPG',\n",
       " 'Society of Women Engineers Constitution 8-7-18.doc',\n",
       " 'student-organization-charter-template-2018.docx',\n",
       " 'SWE Election Update 2025.eml',\n",
       " 'SWE Officer Positions 24-25.docx',\n",
       " 'SWE Officer Positions 25-26.pdf']"
      ]
     },
     "execution_count": 5,
     "metadata": {},
     "output_type": "execute_result"
    }
   ],
   "source": [
    "#To check what sort of files are in the folder we want to sort\n",
    "os.listdir(path)"
   ]
  },
  {
   "cell_type": "code",
   "execution_count": 7,
   "id": "4cabe68f",
   "metadata": {},
   "outputs": [
    {
     "name": "stdout",
     "output_type": "stream",
     "text": [
      "C:/Users/Public/File Sorter/csv files\n",
      "C:/Users/Public/File Sorter/image files\n",
      "C:/Users/Public/File Sorter/text files\n",
      "C:/Users/Public/File Sorter/coding files\n"
     ]
    }
   ],
   "source": [
    "#Defining the variable to access the directory with files\n",
    "file_name = os.listdir(path)\n",
    "\n",
    "#Making the folders we want to put the sorted files into respectively, I made according to my convenience\n",
    "folder_names=['csv files', 'image files', 'text files', 'coding files']\n",
    "\n",
    "#Please make sure that the range has the last number based on number of files else it won't loop all folders\n",
    "for loop in range(0,4):\n",
    "    if not os.path.exists(path + folder_names[loop]):\n",
    "        print(path + folder_names[loop])\n",
    "        os.makedirs(path + folder_names[loop])"
   ]
  },
  {
   "cell_type": "code",
   "execution_count": 8,
   "id": "43959e00",
   "metadata": {},
   "outputs": [
    {
     "name": "stdout",
     "output_type": "stream",
     "text": [
      "There are files in this path that were not moved!\n",
      "There are files in this path that were not moved!\n",
      "There are files in this path that were not moved!\n",
      "There are files in this path that were not moved!\n"
     ]
    }
   ],
   "source": [
    "#Checking if the files are in folder and if not to sort the files respectively for each file type defined for each folder\n",
    "for file in file_name:\n",
    "    if \".csv\" in file and not os.path.exists(path + \"csv files/\" + file):\n",
    "        shutil.move(path + file,path + \"csv files/\" + file)\n",
    "    elif \".xlsx\" in file and not os.path.exists(path + \"csv files/\" + file):\n",
    "        shutil.move(path + file,path + \"csv files/\" + file)\n",
    "    elif \".pdf\" in file and not os.path.exists(path + \"text files/\" + file):\n",
    "        shutil.move(path + file,path + \"text files/\" + file)\n",
    "    elif \".docx\" in file and not os.path.exists(path + \"text files/\" + file):\n",
    "        shutil.move(path + file,path + \"text files/\" + file)\n",
    "    elif \".txt\" in file and not os.path.exists(path + \"text files/\" + file):\n",
    "        shutil.move(path + file,path + \"text files/\" + file)\n",
    "    elif \".png\" in file and not os.path.exists(path + \"image files/\" + file):\n",
    "        shutil.move(path + file,path + \"image files/\" + file)\n",
    "    elif \".txt\" in file and not os.path.exists(path + \"text files/\" + file):\n",
    "        shutil.move(path + file,path + \"text files/\" + file)\n",
    "    elif \".ipynb\" in file and not os.path.exists(path + \"coding files/\" + file):\n",
    "        shutil.move(path + file,path + \"coding files/\" + file)\n",
    "    elif \".JPG\" in file and not os.path.exists(path + \"image files/\" + file):\n",
    "        shutil.move(path + file,path + \"image files/\" + file)  \n",
    "        \n",
    "    else:\n",
    "        print(\"There are files in this path that were not moved!\")\n",
    "        \n",
    "        \n",
    "#The files should be sorted out in files and the undefined files would not be moved into folders, if you re-run this script portion it might show alot of prints given it has already arranged- so don't worry and keep coding."
   ]
  },
  {
   "cell_type": "code",
   "execution_count": null,
   "id": "b7a5e42e",
   "metadata": {},
   "outputs": [],
   "source": [
    "#Files are sorted out! Thank you."
   ]
  }
 ],
 "metadata": {
  "kernelspec": {
   "display_name": "Python 3 (ipykernel)",
   "language": "python",
   "name": "python3"
  },
  "language_info": {
   "codemirror_mode": {
    "name": "ipython",
    "version": 3
   },
   "file_extension": ".py",
   "mimetype": "text/x-python",
   "name": "python",
   "nbconvert_exporter": "python",
   "pygments_lexer": "ipython3",
   "version": "3.11.5"
  }
 },
 "nbformat": 4,
 "nbformat_minor": 5
}
