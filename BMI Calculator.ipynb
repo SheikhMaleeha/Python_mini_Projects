{
  "nbformat": 4,
  "nbformat_minor": 0,
  "metadata": {
    "colab": {
      "provenance": []
    },
    "kernelspec": {
      "name": "python3",
      "display_name": "Python 3"
    },
    "language_info": {
      "name": "python"
    }
  },
  "cells": [
    {
      "cell_type": "markdown",
      "source": [
        "#BMI Calculator"
      ],
      "metadata": {
        "id": "pPHtpqHdaqeI"
      }
    },
    {
      "cell_type": "code",
      "execution_count": 47,
      "metadata": {
        "colab": {
          "base_uri": "https://localhost:8080/"
        },
        "id": "AjzXQmViYiVa",
        "outputId": "be6261e9-fdd8-43f0-bd37-72ae825f0801"
      },
      "outputs": [
        {
          "output_type": "stream",
          "name": "stdout",
          "text": [
            "enter your weight in pounds: 104\n",
            "enter your height in inches: 61\n",
            "19.64848159097017\n"
          ]
        }
      ],
      "source": [
        "#If you wish to make it more personalized\n",
        "#name= input(\"Enter your name: \")\n",
        "\n",
        "\n",
        "#Only integer values. Not applicable for decimal inputs- else ValueError\n",
        "weight= int( input(\"enter your weight in pounds: \") )\n",
        "height= int( input(\"enter your height in inches: \") )\n",
        "\n",
        "#BMI = (weight in pounds x 703) / (height in inches x height in inches)\n",
        "BMI = (weight * 703) / (height * height)\n",
        "print(BMI)"
      ]
    },
    {
      "cell_type": "code",
      "source": [
        "#If you wish to make it more personalized\n",
        "#name= input(\"Enter your name: \")\n",
        "\n",
        "#If you have decimal or fraction based values, you can have it here, I prefer keeping this.\n",
        "weight= float( input(\"enter your weight in pounds: \") )\n",
        "height= float( input(\"enter your height in inches: \") )\n",
        "\n",
        "#BMI = (weight in pounds x 703) / (height in inches x height in inches)\n",
        "BMI = (weight * 703) / (height * height)\n",
        "print(BMI)"
      ],
      "metadata": {
        "colab": {
          "base_uri": "https://localhost:8080/"
        },
        "id": "zB6u6YZKuWsq",
        "outputId": "75aaefe0-6965-49ec-fbb2-e244a5b2113a"
      },
      "execution_count": 45,
      "outputs": [
        {
          "output_type": "stream",
          "name": "stdout",
          "text": [
            "enter your weight in pounds: 104\n",
            "enter your height in inches: 61.2\n",
            "19.520269981630992\n"
          ]
        }
      ]
    },
    {
      "cell_type": "code",
      "source": [
        "#To experiment with different proxy BMI scores.\n",
        "BMI=10"
      ],
      "metadata": {
        "id": "2Iyw_x0obVV9"
      },
      "execution_count": 49,
      "outputs": []
    },
    {
      "cell_type": "code",
      "source": [
        "#If you wish to make it more personalized\n",
        "#name= input(name + \", you are normal weight \")\n",
        "#name= input(name + \", your weight status is : normal\")\n",
        "\n",
        "if BMI>0:\n",
        "    if(BMI<18.5):\n",
        "        print(\"You are underweight.\")\n",
        "    elif(BMI<=24.9):\n",
        "        print(\"You are normal weight.\")\n",
        "    elif(BMI<=29.9):\n",
        "        print(\"You are overweight.\")\n",
        "    elif(BMI<=34.9):\n",
        "        print(\"You are obese.\")\n",
        "    elif(BMI<=39.9):\n",
        "        print(\"You are severly obese.\")\n",
        "    else:   #can also be elif(BMI>=40):\n",
        "        print(\"You are morbidly obese.\")\n",
        "\n",
        "else:\n",
        "   print (\"Enter valid inputs\")\n",
        ""
      ],
      "metadata": {
        "colab": {
          "base_uri": "https://localhost:8080/"
        },
        "id": "JHv9sDkcbVSi",
        "outputId": "050bba2d-55a7-432d-b791-e99ed409500a"
      },
      "execution_count": 51,
      "outputs": [
        {
          "output_type": "stream",
          "name": "stdout",
          "text": [
            "You are underweight.\n"
          ]
        }
      ]
    }
  ]
}